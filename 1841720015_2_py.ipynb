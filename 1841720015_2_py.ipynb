{
  "nbformat": 4,
  "nbformat_minor": 0,
  "metadata": {
    "colab": {
      "name": "1841720015_2.py",
      "provenance": [],
      "authorship_tag": "ABX9TyOrCNDJF4bIrrHSQzDdugVF",
      "include_colab_link": true
    },
    "kernelspec": {
      "name": "python3",
      "display_name": "Python 3"
    }
  },
  "cells": [
    {
      "cell_type": "markdown",
      "metadata": {
        "id": "view-in-github",
        "colab_type": "text"
      },
      "source": [
        "<a href=\"https://colab.research.google.com/github/Adristiftitah/TDATA_Week3/blob/main/1841720015_2_py.ipynb\" target=\"_parent\"><img src=\"https://colab.research.google.com/assets/colab-badge.svg\" alt=\"Open In Colab\"/></a>"
      ]
    },
    {
      "cell_type": "code",
      "metadata": {
        "colab": {
          "base_uri": "https://localhost:8080/"
        },
        "id": "8yEi5Sg4WpBa",
        "outputId": "15bf800e-2170-4c08-a3cf-c50ddcb6ea30"
      },
      "source": [
        "nilai1 = 10\r\n",
        "nilai2 = 20\r\n",
        "nilai3 = 100\r\n",
        "total = nilai1 +nilai2 + nilai3\r\n",
        "print(total)"
      ],
      "execution_count": 2,
      "outputs": [
        {
          "output_type": "stream",
          "text": [
            "130\n"
          ],
          "name": "stdout"
        }
      ]
    }
  ]
}