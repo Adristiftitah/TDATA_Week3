{
  "nbformat": 4,
  "nbformat_minor": 0,
  "metadata": {
    "colab": {
      "name": "1841720015_15.py",
      "provenance": [],
      "collapsed_sections": [],
      "authorship_tag": "ABX9TyNQkx1hzRi7XjIVxtCjZqiE",
      "include_colab_link": true
    },
    "kernelspec": {
      "name": "python3",
      "display_name": "Python 3"
    }
  },
  "cells": [
    {
      "cell_type": "markdown",
      "metadata": {
        "id": "view-in-github",
        "colab_type": "text"
      },
      "source": [
        "<a href=\"https://colab.research.google.com/github/Adristiftitah/TDATA_Week3/blob/main/1841720015_15_py.ipynb\" target=\"_parent\"><img src=\"https://colab.research.google.com/assets/colab-badge.svg\" alt=\"Open In Colab\"/></a>"
      ]
    },
    {
      "cell_type": "code",
      "metadata": {
        "colab": {
          "base_uri": "https://localhost:8080/"
        },
        "id": "Qa7maReeruTk",
        "outputId": "5bf60cb5-030a-4d3d-d8bd-fe15a36ef705"
      },
      "source": [
        "a =10; b =20\r\n",
        "myList = [1,2,3,4,5];\r\n",
        "\r\n",
        "a = 2\r\n",
        "if ( a in myList):\r\n",
        "  print (\"Line 3 a is available in the given list\")\r\n",
        "else:\r\n",
        "  print (\"Line 3 a is not availabe in the given list\")"
      ],
      "execution_count": 1,
      "outputs": [
        {
          "output_type": "stream",
          "text": [
            "Line 3 a is available in the given list\n"
          ],
          "name": "stdout"
        }
      ]
    }
  ]
}