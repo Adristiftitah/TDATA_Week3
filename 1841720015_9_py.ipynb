{
  "nbformat": 4,
  "nbformat_minor": 0,
  "metadata": {
    "colab": {
      "name": "1841720015_9.py",
      "provenance": [],
      "authorship_tag": "ABX9TyNA0obKMbkc+KRQy0rjSti2",
      "include_colab_link": true
    },
    "kernelspec": {
      "name": "python3",
      "display_name": "Python 3"
    }
  },
  "cells": [
    {
      "cell_type": "markdown",
      "metadata": {
        "id": "view-in-github",
        "colab_type": "text"
      },
      "source": [
        "<a href=\"https://colab.research.google.com/github/Adristiftitah/TDATA_Week3/blob/main/1841720015_9_py.ipynb\" target=\"_parent\"><img src=\"https://colab.research.google.com/assets/colab-badge.svg\" alt=\"Open In Colab\"/></a>"
      ]
    },
    {
      "cell_type": "code",
      "metadata": {
        "colab": {
          "base_uri": "https://localhost:8080/"
        },
        "id": "KDRbpGSgi2MP",
        "outputId": "d25514f7-cda6-42e4-8bc4-77c2cf5632f3"
      },
      "source": [
        "name = input('What is your name? ')\r\n",
        "\r\n",
        "print('Hi ' + name + '!')"
      ],
      "execution_count": 1,
      "outputs": [
        {
          "output_type": "stream",
          "text": [
            "What is your name? Adristi\n",
            "Hi Adristi!\n"
          ],
          "name": "stdout"
        }
      ]
    }
  ]
}