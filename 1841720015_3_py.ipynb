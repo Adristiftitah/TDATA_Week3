{
  "nbformat": 4,
  "nbformat_minor": 0,
  "metadata": {
    "colab": {
      "name": "1841720015_3.py",
      "provenance": [],
      "authorship_tag": "ABX9TyOPpaH8Znc6KUrQRXGpPp2T",
      "include_colab_link": true
    },
    "kernelspec": {
      "name": "python3",
      "display_name": "Python 3"
    }
  },
  "cells": [
    {
      "cell_type": "markdown",
      "metadata": {
        "id": "view-in-github",
        "colab_type": "text"
      },
      "source": [
        "<a href=\"https://colab.research.google.com/github/Adristiftitah/TDATA_Week3/blob/main/1841720015_3_py.ipynb\" target=\"_parent\"><img src=\"https://colab.research.google.com/assets/colab-badge.svg\" alt=\"Open In Colab\"/></a>"
      ]
    },
    {
      "cell_type": "code",
      "metadata": {
        "colab": {
          "base_uri": "https://localhost:8080/"
        },
        "id": "YOBKx_-SY3vj",
        "outputId": "790008e9-c147-4d8e-b11e-760e697d3398"
      },
      "source": [
        "cabang = ['Jakarta','Bogor','Bandung','Solo','Malang',\r\n",
        "          'Surabaya','Banyuwangi','Denpasar','Makassar']\r\n",
        "print (cabang)"
      ],
      "execution_count": 1,
      "outputs": [
        {
          "output_type": "stream",
          "text": [
            "['Jakarta', 'Bogor', 'Bandung', 'Solo', 'Malang', 'Surabaya', 'Banyuwangi', 'Denpasar', 'Makassar']\n"
          ],
          "name": "stdout"
        }
      ]
    }
  ]
}