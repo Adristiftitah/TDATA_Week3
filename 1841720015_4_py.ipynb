{
  "nbformat": 4,
  "nbformat_minor": 0,
  "metadata": {
    "colab": {
      "name": "1841720015_4.py",
      "provenance": [],
      "authorship_tag": "ABX9TyMnzQu7xWH+5j3zdyoxdIm/",
      "include_colab_link": true
    },
    "kernelspec": {
      "name": "python3",
      "display_name": "Python 3"
    }
  },
  "cells": [
    {
      "cell_type": "markdown",
      "metadata": {
        "id": "view-in-github",
        "colab_type": "text"
      },
      "source": [
        "<a href=\"https://colab.research.google.com/github/Adristiftitah/TDATA_Week3/blob/main/1841720015_4_py.ipynb\" target=\"_parent\"><img src=\"https://colab.research.google.com/assets/colab-badge.svg\" alt=\"Open In Colab\"/></a>"
      ]
    },
    {
      "cell_type": "code",
      "metadata": {
        "colab": {
          "base_uri": "https://localhost:8080/"
        },
        "id": "iJYe3wlQZjQb",
        "outputId": "043e2f31-8007-4305-9fc8-1add4635649f"
      },
      "source": [
        "x = 100; y=150; z=22.56; hasil = x+2*y*z\r\n",
        "print(hasil)"
      ],
      "execution_count": 1,
      "outputs": [
        {
          "output_type": "stream",
          "text": [
            "6868.0\n"
          ],
          "name": "stdout"
        }
      ]
    }
  ]
}