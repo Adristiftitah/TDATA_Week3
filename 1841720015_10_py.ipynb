{
  "nbformat": 4,
  "nbformat_minor": 0,
  "metadata": {
    "colab": {
      "name": "1841720015_10.py",
      "provenance": [],
      "collapsed_sections": [],
      "authorship_tag": "ABX9TyPB0wCe1tO33xyNmOawXhf7",
      "include_colab_link": true
    },
    "kernelspec": {
      "name": "python3",
      "display_name": "Python 3"
    }
  },
  "cells": [
    {
      "cell_type": "markdown",
      "metadata": {
        "id": "view-in-github",
        "colab_type": "text"
      },
      "source": [
        "<a href=\"https://colab.research.google.com/github/Adristiftitah/TDATA_Week3/blob/main/1841720015_10_py.ipynb\" target=\"_parent\"><img src=\"https://colab.research.google.com/assets/colab-badge.svg\" alt=\"Open In Colab\"/></a>"
      ]
    },
    {
      "cell_type": "code",
      "metadata": {
        "colab": {
          "base_uri": "https://localhost:8080/"
        },
        "id": "-YOWxq9Pj19N",
        "outputId": "3d2c839d-ef48-4b57-eef4-ad4e3d192985"
      },
      "source": [
        "nama = 'Sabine'\r\n",
        "kalimat = \"This is a sentance.\"\r\n",
        "Paragraf = \"\"\"This is a paragraph.\r\n",
        "Paragraph are made up of several lines and sentence. \"\"\"\r\n",
        "\r\n",
        "print(nama)\r\n",
        "print(kalimat)\r\n",
        "print(Paragraf)\r\n",
        "\r\n",
        "print(nama[0:5])\r\n",
        "print(nama[2:])\r\n",
        "print(kalimat[-8:-1])"
      ],
      "execution_count": 1,
      "outputs": [
        {
          "output_type": "stream",
          "text": [
            "Sabine\n",
            "This is a sentance.\n",
            "This is a paragraph.\n",
            "Paragraph are made up of several lines and sentence. \n",
            "Sabin\n",
            "bine\n",
            "entance\n"
          ],
          "name": "stdout"
        }
      ]
    }
  ]
}