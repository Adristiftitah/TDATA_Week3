{
  "nbformat": 4,
  "nbformat_minor": 0,
  "metadata": {
    "colab": {
      "name": "1841720015_6.py",
      "provenance": [],
      "authorship_tag": "ABX9TyOHypMZs/8hO5wVy/fEdHUT",
      "include_colab_link": true
    },
    "kernelspec": {
      "name": "python3",
      "display_name": "Python 3"
    }
  },
  "cells": [
    {
      "cell_type": "markdown",
      "metadata": {
        "id": "view-in-github",
        "colab_type": "text"
      },
      "source": [
        "<a href=\"https://colab.research.google.com/github/Adristiftitah/TDATA_Week3/blob/main/1841720015_6_py.ipynb\" target=\"_parent\"><img src=\"https://colab.research.google.com/assets/colab-badge.svg\" alt=\"Open In Colab\"/></a>"
      ]
    },
    {
      "cell_type": "code",
      "metadata": {
        "colab": {
          "base_uri": "https://localhost:8080/"
        },
        "id": "wez2cIfBbi8D",
        "outputId": "aeffd690-3d82-4e86-e910-a6ae0ff1a5a5"
      },
      "source": [
        "counter = 100   #integer value assigment\r\n",
        "jarak = 104.5   # floating point value\r\n",
        "name= \"nina\"    # the name variable stores a String value\r\n",
        "\r\n",
        "# multiple assigment in one command line :\r\n",
        "a = b = c = 200\r\n",
        "name, city, salary = \"Sabine\", 'Surabaya' , 70000\r\n",
        "\r\n",
        "print(counter)\r\n",
        "print(jarak)\r\n",
        "print(name)\r\n",
        "print(a, b, c)\r\n",
        "print(city)"
      ],
      "execution_count": 1,
      "outputs": [
        {
          "output_type": "stream",
          "text": [
            "100\n",
            "104.5\n",
            "Sabine\n",
            "200 200 200\n",
            "Surabaya\n"
          ],
          "name": "stdout"
        }
      ]
    }
  ]
}