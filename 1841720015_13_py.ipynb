{
  "nbformat": 4,
  "nbformat_minor": 0,
  "metadata": {
    "colab": {
      "name": "1841720015_13.py",
      "provenance": [],
      "collapsed_sections": [],
      "authorship_tag": "ABX9TyNlS1gU/RmwC8w0BqMY44/G",
      "include_colab_link": true
    },
    "kernelspec": {
      "name": "python3",
      "display_name": "Python 3"
    }
  },
  "cells": [
    {
      "cell_type": "markdown",
      "metadata": {
        "id": "view-in-github",
        "colab_type": "text"
      },
      "source": [
        "<a href=\"https://colab.research.google.com/github/Adristiftitah/TDATA_Week3/blob/main/1841720015_13_py.ipynb\" target=\"_parent\"><img src=\"https://colab.research.google.com/assets/colab-badge.svg\" alt=\"Open In Colab\"/></a>"
      ]
    },
    {
      "cell_type": "code",
      "metadata": {
        "colab": {
          "base_uri": "https://localhost:8080/"
        },
        "id": "OnWtntgkpwrS",
        "outputId": "db27c7d5-2a18-4f4e-a44a-f7698c66d095"
      },
      "source": [
        "s = \"SaMurai\"\r\n",
        "s.lower()\r\n",
        "print(s)\r\n",
        "s2 = s.lower()\r\n",
        "print(s2)\r\n",
        "\r\n",
        "name = input('What is your name? ')\r\n",
        "\r\n",
        "print('Hi ' + name + '!')"
      ],
      "execution_count": 1,
      "outputs": [
        {
          "output_type": "stream",
          "text": [
            "SaMurai\n",
            "samurai\n",
            "What is your name? SaMurai\n",
            "Hi SaMurai!\n"
          ],
          "name": "stdout"
        }
      ]
    }
  ]
}