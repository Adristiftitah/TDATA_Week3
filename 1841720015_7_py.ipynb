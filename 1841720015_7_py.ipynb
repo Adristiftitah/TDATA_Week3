{
  "nbformat": 4,
  "nbformat_minor": 0,
  "metadata": {
    "colab": {
      "name": "1841720015_7.py",
      "provenance": [],
      "authorship_tag": "ABX9TyO6kElvJyan60YHIyXQxZtF",
      "include_colab_link": true
    },
    "kernelspec": {
      "name": "python3",
      "display_name": "Python 3"
    }
  },
  "cells": [
    {
      "cell_type": "markdown",
      "metadata": {
        "id": "view-in-github",
        "colab_type": "text"
      },
      "source": [
        "<a href=\"https://colab.research.google.com/github/Adristiftitah/TDATA_Week3/blob/main/1841720015_7_py.ipynb\" target=\"_parent\"><img src=\"https://colab.research.google.com/assets/colab-badge.svg\" alt=\"Open In Colab\"/></a>"
      ]
    },
    {
      "cell_type": "code",
      "metadata": {
        "colab": {
          "base_uri": "https://localhost:8080/"
        },
        "id": "j0rfbM3JemF_",
        "outputId": "a2768c49-77ba-450d-e041-43140d3a6cac"
      },
      "source": [
        "print(True or False) #output : True\r\n",
        "print(True and False) #output : False\r\n",
        "print ( 100 > 200) #outpt : False \r\n",
        "\r\n",
        "a=9\r\n",
        "print ( a>0 ) #output : True\r\n",
        "\r\n",
        "b=10\r\n",
        "print ( a>b ) #output : False"
      ],
      "execution_count": 1,
      "outputs": [
        {
          "output_type": "stream",
          "text": [
            "True\n",
            "False\n",
            "False\n",
            "True\n",
            "False\n"
          ],
          "name": "stdout"
        }
      ]
    }
  ]
}