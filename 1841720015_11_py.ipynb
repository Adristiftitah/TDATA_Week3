{
  "nbformat": 4,
  "nbformat_minor": 0,
  "metadata": {
    "colab": {
      "name": "1841720015_11.py",
      "provenance": [],
      "authorship_tag": "ABX9TyN/UycasWOsOcI5s60GGlyZ",
      "include_colab_link": true
    },
    "kernelspec": {
      "name": "python3",
      "display_name": "Python 3"
    }
  },
  "cells": [
    {
      "cell_type": "markdown",
      "metadata": {
        "id": "view-in-github",
        "colab_type": "text"
      },
      "source": [
        "<a href=\"https://colab.research.google.com/github/Adristiftitah/TDATA_Week3/blob/main/1841720015_11_py.ipynb\" target=\"_parent\"><img src=\"https://colab.research.google.com/assets/colab-badge.svg\" alt=\"Open In Colab\"/></a>"
      ]
    },
    {
      "cell_type": "code",
      "metadata": {
        "colab": {
          "base_uri": "https://localhost:8080/"
        },
        "id": "zNvcdRP1ljq_",
        "outputId": "16f385c1-6394-40a3-d243-a87afa019f85"
      },
      "source": [
        "myStr = 'Hello, Surabaya'\r\n",
        "print(len(myStr))\r\n",
        "\r\n",
        "pegawai = 'Sabine'\r\n",
        "print (\"nama: \" , pegawai)\r\n",
        "print(\"pass\" + \"word\")\r\n",
        "\r\n",
        "#age = 35\r\n",
        "#myText = 'Age is '\r\n",
        "#print(myText + age) #Error\r\n",
        "\r\n",
        "age = 35\r\n",
        "myText = 'Age is'\r\n",
        "print(myText + str(age))\r\n",
        "\r\n",
        "print(\"Python \" * 3)"
      ],
      "execution_count": 2,
      "outputs": [
        {
          "output_type": "stream",
          "text": [
            "15\n",
            "nama:  Sabine\n",
            "password\n",
            "Age is35\n",
            "Python Python Python \n"
          ],
          "name": "stdout"
        }
      ]
    }
  ]
}