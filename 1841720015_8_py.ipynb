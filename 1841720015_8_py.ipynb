{
  "nbformat": 4,
  "nbformat_minor": 0,
  "metadata": {
    "colab": {
      "name": "1841720015_8.py",
      "provenance": [],
      "authorship_tag": "ABX9TyPSOQfE7K+KXLT0y1EjGU0I",
      "include_colab_link": true
    },
    "kernelspec": {
      "name": "python3",
      "display_name": "Python 3"
    }
  },
  "cells": [
    {
      "cell_type": "markdown",
      "metadata": {
        "id": "view-in-github",
        "colab_type": "text"
      },
      "source": [
        "<a href=\"https://colab.research.google.com/github/Adristiftitah/TDATA_Week3/blob/main/1841720015_8_py.ipynb\" target=\"_parent\"><img src=\"https://colab.research.google.com/assets/colab-badge.svg\" alt=\"Open In Colab\"/></a>"
      ]
    },
    {
      "cell_type": "code",
      "metadata": {
        "colab": {
          "base_uri": "https://localhost:8080/"
        },
        "id": "NPuOPSJhgrd_",
        "outputId": "3cd13b26-9e1d-48f5-f643-9f9cae22b8f1"
      },
      "source": [
        "x = None \r\n",
        "print(type(x))  #output : NoneType\r\n",
        "\r\n",
        "print(x == None) # output : True\r\n",
        "print(x) #output: None"
      ],
      "execution_count": 1,
      "outputs": [
        {
          "output_type": "stream",
          "text": [
            "<class 'NoneType'>\n",
            "True\n",
            "None\n"
          ],
          "name": "stdout"
        }
      ]
    }
  ]
}