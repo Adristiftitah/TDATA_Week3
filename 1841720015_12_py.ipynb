{
  "nbformat": 4,
  "nbformat_minor": 0,
  "metadata": {
    "colab": {
      "name": "1841720015_12.py",
      "provenance": [],
      "collapsed_sections": [],
      "authorship_tag": "ABX9TyMq7OeWsKt054mIjDYCuSFj",
      "include_colab_link": true
    },
    "kernelspec": {
      "name": "python3",
      "display_name": "Python 3"
    }
  },
  "cells": [
    {
      "cell_type": "markdown",
      "metadata": {
        "id": "view-in-github",
        "colab_type": "text"
      },
      "source": [
        "<a href=\"https://colab.research.google.com/github/Adristiftitah/TDATA_Week3/blob/main/1841720015_12_py.ipynb\" target=\"_parent\"><img src=\"https://colab.research.google.com/assets/colab-badge.svg\" alt=\"Open In Colab\"/></a>"
      ]
    },
    {
      "cell_type": "code",
      "metadata": {
        "colab": {
          "base_uri": "https://localhost:8080/"
        },
        "id": "PRVfwDnbo9kg",
        "outputId": "a4415500-1ab3-4cff-f79b-850abbf23c7f"
      },
      "source": [
        "# 'Double' in Single\r\n",
        "print('\"Double\" in Single')\r\n",
        "\r\n",
        "# \"Double\" in Double\r\n",
        "print(\"\\\"Double\\\" in Double\")"
      ],
      "execution_count": 1,
      "outputs": [
        {
          "output_type": "stream",
          "text": [
            "\"Double\" in Single\n",
            "\"Double\" in Double\n"
          ],
          "name": "stdout"
        }
      ]
    }
  ]
}