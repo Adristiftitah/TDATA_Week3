{
  "nbformat": 4,
  "nbformat_minor": 0,
  "metadata": {
    "colab": {
      "name": "1841720015_14.py",
      "provenance": [],
      "collapsed_sections": [],
      "authorship_tag": "ABX9TyNGTBYcEvcvj0rgWKtOkusM",
      "include_colab_link": true
    },
    "kernelspec": {
      "name": "python3",
      "display_name": "Python 3"
    }
  },
  "cells": [
    {
      "cell_type": "markdown",
      "metadata": {
        "id": "view-in-github",
        "colab_type": "text"
      },
      "source": [
        "<a href=\"https://colab.research.google.com/github/Adristiftitah/TDATA_Week3/blob/main/1841720015_14_py.ipynb\" target=\"_parent\"><img src=\"https://colab.research.google.com/assets/colab-badge.svg\" alt=\"Open In Colab\"/></a>"
      ]
    },
    {
      "cell_type": "code",
      "metadata": {
        "colab": {
          "base_uri": "https://localhost:8080/"
        },
        "id": "trh2wB-Nq5KM",
        "outputId": "2789a985-a925-4571-d10a-8ca1cfc1acab"
      },
      "source": [
        "print(str(3.14)) \r\n",
        "print(int(\"2345\"))\r\n",
        "print(int(75.99999))\r\n",
        "print(float(\"5.678\"))\r\n",
        "print(float(9))"
      ],
      "execution_count": 1,
      "outputs": [
        {
          "output_type": "stream",
          "text": [
            "3.14\n",
            "2345\n",
            "75\n",
            "5.678\n",
            "9.0\n"
          ],
          "name": "stdout"
        }
      ]
    }
  ]
}